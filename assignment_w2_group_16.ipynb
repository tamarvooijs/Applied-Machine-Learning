{
 "cells": [
  {
   "cell_type": "markdown",
   "source": [
    "# CS4305TU - Assignment 2 - Regression\n",
    "\n",
    "In this assignment, you will apply your newly obtained regression techniques with real-life data. **You should work in groups for this assignment.**\n",
    "\n",
    "## Data source\n",
    "\n",
    "What you will be playing with is aircraft trajectory data derived from [ADS-B](https://www.skybrary.aero/index.php/Automatic_Dependent_Surveillance_Broadcast_(ADS-B)). It is collected using the antenna from the top of the aerospace building:\n",
    "\n",
    "<img src=\"https://pbs.twimg.com/media/EoBz7vVXEAAze48?format=jpg&name=medium\" width=\"400\"/>\n",
    "\n",
    "Ensentially, ADS-B data is what you see on website like FlightRadar24:\n",
    "\n",
    "<img src=\"https://media.giphy.com/media/cPutGcE0a9jdS/giphy.gif\" width=\"400\"/>\n",
    "\n",
    "## Background\n",
    "\n",
    "In the dataset, all flight trajectories include only the descent part of the flight. The dataset is split into two directories. One directory contains flights that are following the [Continous Descent Approach (CDA)](https://www.skybrary.aero/index.php/Continuous_Descent). The other directory contains flights that do not follow CDA. \n",
    "\n",
    "CDA is an operation, where the aircraft does not have any level flight segment during the descent. Follow the link above to know more.\n",
    "\n",
    "<img src=\"https://1.bp.blogspot.com/-UFmjVcjmqCM/UIai54Y_wYI/AAAAAAAAAUM/tW1HTFP1IGI/s1600/image02_05_large.gif\" width=\"400\">\n",
    "\n",
    "\n",
    "## Data attributes\n",
    "\n",
    "The structures of all CSV files are the same. Here are descriptions of all columns:\n",
    "\n",
    "- **time**: flight time in seconds, the first row starts at time 0.\n",
    "- **icao**: aircraft transponder address, string format, unique for each aircraft.\n",
    "- **type**: aircraft type code, string format.\n",
    "- **callsign**: string format, often related to the flight number, unique for each flight.\n",
    "- **latitude**: latitude coordinate in degrees.\n",
    "- **longitude**: latitude coordinate  in degrees.\n",
    "- **speed**: aircraft speed respective to ground, unit is in knots (1 knot = 0.51444 m/s).\n",
    "- **track_angle**: direction of aircraft in relation to the true north, in degrees.\n",
    "- **vertical_rate**: aircraft climb or descent speed in feet/minute (1 ft/min = 000508 m/s), negative value indicates aircraft is descending.\n",
    "\n",
    "The most important features we are using are **time**, **altitude**, **speed**, and **vertical_rate**. \n",
    "\n",
    "## Instructions\n",
    "\n",
    "The code in this notebook serves as the base for your assignment. The tasks are defined in each section.\n",
    "\n",
    "You should implement the solutions using code cells and write your analysis using markdown cells.\n",
    "\n",
    "Once you have complete everything, before submission, remember to restart the kernel and run all cells again. Make sure there are no errors. Then you should:\n",
    "\n",
    " - Save the notebook (**replace XX in the filename with your group number**)\n",
    " - Export a HTML version of the notebook. Hint: follow Mene -> File -> Download as -> HTML\n",
    " - Submit both the notebook (.ipynb) and the export (.html)\n",
    "\n",
    "\n",
    " ## References\n",
    "\n",
    "- Quick tutorial for **Jupyter Notebook** : https://www.youtube.com/watch?v=2eCHD6f_phE\n",
    "\n",
    "- Quick tutorial for **Jupyter Lab** (if you wish to use): https://www.youtube.com/watch?v=A5YyoCKxEOU\n",
    " "
   ],
   "metadata": {}
  },
  {
   "cell_type": "code",
   "execution_count": null,
   "source": [
    "import glob\n",
    "import warnings\n",
    "\n",
    "import matplotlib.pyplot as plt\n",
    "import numpy as np\n",
    "import pandas as pd\n",
    "\n",
    "warnings.filterwarnings(\"ignore\")"
   ],
   "outputs": [],
   "metadata": {}
  },
  {
   "cell_type": "code",
   "execution_count": null,
   "source": [
    "# loading all trajectory files\n",
    "\n",
    "cda_files = sorted(glob.glob(\"data/cda/*.csv\"))\n",
    "noncda_files = sorted(glob.glob(\"data/noncda/*.csv\"))"
   ],
   "outputs": [],
   "metadata": {}
  },
  {
   "cell_type": "markdown",
   "source": [
    "## Examples\n",
    "\n",
    "Following two cells are some examples for data and plotting.\n",
    "\n",
    "Remove these before submit your assignment."
   ],
   "metadata": {}
  },
  {
   "cell_type": "code",
   "execution_count": null,
   "source": [
    "df_example = pd.read_csv(cda_files[0])\n",
    "df_example.head(10)"
   ],
   "outputs": [],
   "metadata": {
    "tags": []
   }
  },
  {
   "cell_type": "code",
   "execution_count": null,
   "source": [
    "# visualization example\n",
    "\n",
    "flight_sample = pd.read_csv(noncda_files[0])\n",
    "\n",
    "fig, ax = plt.subplots(1, 3, figsize=(12, 3))\n",
    "ax[0].scatter(flight_sample.time, flight_sample.altitude, s=5)\n",
    "ax[0].set_xlabel(\"time\")\n",
    "ax[0].set_ylabel(\"altitude\")\n",
    "ax[1].scatter(flight_sample.time, flight_sample.speed, s=5)\n",
    "ax[1].set_xlabel(\"time\")\n",
    "ax[1].set_ylabel(\"speed\")\n",
    "ax[2].scatter(flight_sample.time, flight_sample.vertical_rate, s=5)\n",
    "ax[2].set_xlabel(\"time\")\n",
    "ax[2].set_ylabel(\"vertical_rate\")\n",
    "plt.tight_layout()\n",
    "plt.show()"
   ],
   "outputs": [],
   "metadata": {}
  },
  {
   "cell_type": "markdown",
   "source": [
    "# Task 1: Simple linear regression \n",
    "\n",
    "In this task you will learn how to apply simple linear regression model using a couple of flight trajectories. To complete the task, follow the steps below:\n",
    "\n",
    "1. Use you group id as random seed, select one flight from CDA trajectories, and another one from Non-CDA trajectories\n",
    "\n",
    "1. Inspect the relationships of (time, altitude), (time, speed), and (time, vertical_rate) for these two trajectories.\n",
    "\n",
    "1. Apply linear regression to all three parameters for both trajectories, using time as input and altitude as output.\n",
    "\n",
    "1. Evaluate the performance of the estimators using different error metrics."
   ],
   "metadata": {}
  },
  {
   "cell_type": "code",
   "execution_count": null,
   "source": [
    "# set group_id to your own group number\n",
    "\n",
    "group_id = 0"
   ],
   "outputs": [],
   "metadata": {}
  },
  {
   "cell_type": "code",
   "execution_count": null,
   "source": [
    "np.random.seed(group_id)\n",
    "\n",
    "cda_filename = np.random.choice(cda_files)\n",
    "noncda_filename = np.random.choice(noncda_files)\n",
    "\n",
    "df_cda = pd.read_csv(cda_filename)\n",
    "df_noncda = pd.read_csv(noncda_filename)\n",
    "\n",
    "type_cda = df_cda[\"type\"].iloc[0]\n",
    "type_noncda = df_noncda[\"type\"].iloc[0]"
   ],
   "outputs": [],
   "metadata": {}
  },
  {
   "cell_type": "code",
   "execution_count": null,
   "source": [
    "# write your code here\n",
    "\n",
    "# create more cells if needed\n",
    "\n",
    "\n",
    "\n"
   ],
   "outputs": [],
   "metadata": {}
  },
  {
   "cell_type": "markdown",
   "source": [
    "(this is a markdown cell)\n",
    "\n",
    "write your analysis here\n",
    "\n",
    "\n",
    "\n",
    "\n"
   ],
   "metadata": {}
  },
  {
   "cell_type": "markdown",
   "source": [
    "# Task 2: Multiple linear regression\n",
    "\n",
    "In this task you will learn how to apply Polynomial regression model. To complete the task, follow the steps below:\n",
    "\n",
    "1. Using the same trajectories from the previous task, but choose both speed and altitude as predictors for the vertical rate. \n",
    "\n",
    "1. Construct a 3D multiple linear regression model\n",
    "\n",
    "1. Visualize your result and briefly analyze your results."
   ],
   "metadata": {}
  },
  {
   "cell_type": "code",
   "execution_count": null,
   "source": [
    "# write your code here\n",
    "\n",
    "# create more cells if needed\n",
    "\n",
    "\n",
    "\n"
   ],
   "outputs": [],
   "metadata": {}
  },
  {
   "cell_type": "markdown",
   "source": [
    "(this is a markdown cell)\n",
    "\n",
    "write your analysis here\n",
    "\n",
    "\n",
    "\n",
    "\n"
   ],
   "metadata": {}
  },
  {
   "cell_type": "markdown",
   "source": [
    "# Task 3: Polynomial regression\n",
    "\n",
    "In this task you will learn how to apply Polynomial regression model. To complete the task, follow the steps below:\n",
    "\n",
    "1. Based on previous trajectories, apply polynomial regression, using altitude as input and speed as output. \n",
    "\n",
    "1. Try out different orders of polynomials.\n",
    "\n",
    "1. Analyze your choice briefly. Taking into consideration of bias-variance trade-off.\n",
    "\n",
    "1. Applying regularization to a high-order polynomial model you have tried earlier. Write a brief analysis of your result.\n"
   ],
   "metadata": {}
  },
  {
   "cell_type": "code",
   "execution_count": null,
   "source": [
    "# write your code here\n",
    "\n",
    "# create more cells if needed\n",
    "\n",
    "\n"
   ],
   "outputs": [],
   "metadata": {}
  },
  {
   "cell_type": "markdown",
   "source": [
    "(this is a markdown cell)\n",
    "\n",
    "write your analysis here\n",
    "\n",
    "\n",
    "\n",
    "\n"
   ],
   "metadata": {}
  },
  {
   "cell_type": "markdown",
   "source": [
    "# Task 4: Logistic regression\n",
    "\n",
    "In this task you will learn how to apply Logistic regression model. You need to generate a new dataset based on given data. To complete the task, follow the steps below:\n",
    "\n",
    "1. For all trajectories in CDA and NON-CDA group, apply linear regression, using time as input and altitude as output.\n",
    "\n",
    "1. Calculate MAE for all regression models. Construct a dataset with MAE as input, and CDA status as output (CDA as 0, and NON-CDA as 1).\n",
    "\n",
    "1. Determine the Logistic regression model describe the relationship between MAE and CDA status"
   ],
   "metadata": {}
  },
  {
   "cell_type": "code",
   "execution_count": null,
   "source": [
    "# write your code here\n",
    "\n",
    "# create more cells if needed\n",
    "\n",
    "\n",
    "def calcMAE(df):\n",
    "    # complete this function for calculating MAE\n",
    "\n",
    "    # [TODO] fit linear model to time and altitude\n",
    "\n",
    "    # [TODO] calculate MAE\n",
    "\n",
    "    return MAE\n",
    "\n",
    "\n",
    "new_data = []\n",
    "\n",
    "for f in cda_files:\n",
    "    df = pd.read_csv(f)\n",
    "    MAE = calcMAE(df)\n",
    "    new_data.append((MAE, 0))\n",
    "\n",
    "for f in noncda_files:\n",
    "    df = pd.read_csv(f)\n",
    "\n",
    "    MAE = calcMAE(df)\n",
    "    new_data.append((MAE, 1))"
   ],
   "outputs": [],
   "metadata": {}
  },
  {
   "cell_type": "code",
   "execution_count": null,
   "source": [
    "# write your logistic regression code here"
   ],
   "outputs": [],
   "metadata": {}
  },
  {
   "cell_type": "markdown",
   "source": [
    "(this is a markdown cell)\n",
    "\n",
    "write your analysis here\n",
    "\n",
    "\n",
    "\n",
    "\n"
   ],
   "metadata": {}
  },
  {
   "cell_type": "markdown",
   "source": [
    "# Task 5: Bayesian regression\n",
    "\n",
    "In this task you will learn how to apply Bayesian regression model. I recommend to use of `pymc3` library. To complete the task, follow the steps below:\n",
    "\n",
    "1. Apply Bayesian linear regression to vertical speed of CDA and Non-CDA trajectories (time as input). Provide an analysis of your result.\n",
    "\n",
    "1. **(Bonus)** Design a quadratic model to altitude using the Bayesian regression approach. Visualize and analyze your findings.\n",
    "\n"
   ],
   "metadata": {}
  },
  {
   "cell_type": "code",
   "execution_count": null,
   "source": [
    "# write your code here\n",
    "\n",
    "# create more cells if needed\n",
    "\n",
    "# Tip: try different prior probability density functions of parameters. If the regression fails:\n",
    "#   1. change the initial guess.\n",
    "#   2. change the variance for the priors of the random variables\n"
   ],
   "outputs": [],
   "metadata": {
    "tags": []
   }
  },
  {
   "cell_type": "markdown",
   "source": [
    "(this is a markdown cell)\n",
    "\n",
    "write your analysis here\n",
    "\n",
    "\n",
    "\n",
    "\n"
   ],
   "metadata": {}
  }
 ],
 "metadata": {
  "kernelspec": {
   "name": "python3",
   "display_name": "Python 3.9.4 64-bit ('base': conda)"
  },
  "language_info": {
   "codemirror_mode": {
    "name": "ipython",
    "version": 3
   },
   "file_extension": ".py",
   "mimetype": "text/x-python",
   "name": "python",
   "nbconvert_exporter": "python",
   "pygments_lexer": "ipython3",
   "version": "3.9.4"
  },
  "interpreter": {
   "hash": "df9436bd41cfce2279a4eb3ca812802e0d60e734b01d8c00509ce9fbce533a4a"
  }
 },
 "nbformat": 4,
 "nbformat_minor": 4
}